{
 "cells": [
  {
   "cell_type": "markdown",
   "id": "351471d2",
   "metadata": {
    "papermill": {
     "duration": 0.003512,
     "end_time": "2025-04-25T17:47:10.822935",
     "exception": false,
     "start_time": "2025-04-25T17:47:10.819423",
     "status": "completed"
    },
    "tags": []
   },
   "source": [
    "# Iris classification problem"
   ]
  },
  {
   "cell_type": "markdown",
   "id": "2a37a1e5",
   "metadata": {
    "papermill": {
     "duration": 0.002359,
     "end_time": "2025-04-25T17:47:10.829592",
     "exception": false,
     "start_time": "2025-04-25T17:47:10.827233",
     "status": "completed"
    },
    "tags": []
   },
   "source": [
    "## Importing libraries"
   ]
  },
  {
   "cell_type": "code",
   "execution_count": 1,
   "id": "8ce73279",
   "metadata": {
    "execution": {
     "iopub.execute_input": "2025-04-25T17:47:10.835940Z",
     "iopub.status.busy": "2025-04-25T17:47:10.835510Z",
     "iopub.status.idle": "2025-04-25T17:47:13.234044Z",
     "shell.execute_reply": "2025-04-25T17:47:13.233095Z"
    },
    "papermill": {
     "duration": 2.403791,
     "end_time": "2025-04-25T17:47:13.235898",
     "exception": false,
     "start_time": "2025-04-25T17:47:10.832107",
     "status": "completed"
    },
    "tags": []
   },
   "outputs": [],
   "source": [
    "import os\n",
    "import numpy as np\n",
    "import pandas as pd\n",
    "\n",
    "from sklearn.datasets import load_iris\n",
    "from sklearn.model_selection import train_test_split, GridSearchCV\n",
    "from sklearn.preprocessing import MinMaxScaler\n",
    "from sklearn.linear_model import LogisticRegression\n",
    "from sklearn.ensemble import RandomForestClassifier\n",
    "from sklearn.metrics import classification_report, f1_score, precision_score\n",
    "\n",
    "from xgboost import XGBClassifier\n",
    "\n",
    "import mlflow\n",
    "\n",
    "import warnings\n",
    "warnings.filterwarnings('ignore')"
   ]
  },
  {
   "cell_type": "code",
   "execution_count": 2,
   "id": "7c2797a2",
   "metadata": {
    "execution": {
     "iopub.execute_input": "2025-04-25T17:47:13.243837Z",
     "iopub.status.busy": "2025-04-25T17:47:13.242902Z",
     "iopub.status.idle": "2025-04-25T17:47:13.250878Z",
     "shell.execute_reply": "2025-04-25T17:47:13.249980Z"
    },
    "papermill": {
     "duration": 0.012754,
     "end_time": "2025-04-25T17:47:13.252202",
     "exception": false,
     "start_time": "2025-04-25T17:47:13.239448",
     "status": "completed"
    },
    "tags": []
   },
   "outputs": [],
   "source": [
    "df = load_iris()\n",
    "features = df.data\n",
    "targets = df.target"
   ]
  },
  {
   "cell_type": "markdown",
   "id": "2542acdd",
   "metadata": {
    "papermill": {
     "duration": 0.00213,
     "end_time": "2025-04-25T17:47:13.256830",
     "exception": false,
     "start_time": "2025-04-25T17:47:13.254700",
     "status": "completed"
    },
    "tags": []
   },
   "source": [
    "Converting to normal df"
   ]
  },
  {
   "cell_type": "code",
   "execution_count": 3,
   "id": "9f64f655",
   "metadata": {
    "execution": {
     "iopub.execute_input": "2025-04-25T17:47:13.262663Z",
     "iopub.status.busy": "2025-04-25T17:47:13.262236Z",
     "iopub.status.idle": "2025-04-25T17:47:13.269112Z",
     "shell.execute_reply": "2025-04-25T17:47:13.268159Z"
    },
    "papermill": {
     "duration": 0.011405,
     "end_time": "2025-04-25T17:47:13.270476",
     "exception": false,
     "start_time": "2025-04-25T17:47:13.259071",
     "status": "completed"
    },
    "tags": []
   },
   "outputs": [],
   "source": [
    "df = pd.concat([pd.DataFrame(data=features,columns=df.feature_names),\n",
    "           pd.DataFrame(data=targets,columns=['target'])],\n",
    "           axis=1)"
   ]
  },
  {
   "cell_type": "code",
   "execution_count": 4,
   "id": "f0348aa8",
   "metadata": {
    "execution": {
     "iopub.execute_input": "2025-04-25T17:47:13.276336Z",
     "iopub.status.busy": "2025-04-25T17:47:13.275798Z",
     "iopub.status.idle": "2025-04-25T17:47:13.291904Z",
     "shell.execute_reply": "2025-04-25T17:47:13.291008Z"
    },
    "papermill": {
     "duration": 0.02028,
     "end_time": "2025-04-25T17:47:13.293189",
     "exception": false,
     "start_time": "2025-04-25T17:47:13.272909",
     "status": "completed"
    },
    "tags": []
   },
   "outputs": [
    {
     "data": {
      "text/html": [
       "<div>\n",
       "<style scoped>\n",
       "    .dataframe tbody tr th:only-of-type {\n",
       "        vertical-align: middle;\n",
       "    }\n",
       "\n",
       "    .dataframe tbody tr th {\n",
       "        vertical-align: top;\n",
       "    }\n",
       "\n",
       "    .dataframe thead th {\n",
       "        text-align: right;\n",
       "    }\n",
       "</style>\n",
       "<table border=\"1\" class=\"dataframe\">\n",
       "  <thead>\n",
       "    <tr style=\"text-align: right;\">\n",
       "      <th></th>\n",
       "      <th>sepal length (cm)</th>\n",
       "      <th>sepal width (cm)</th>\n",
       "      <th>petal length (cm)</th>\n",
       "      <th>petal width (cm)</th>\n",
       "      <th>target</th>\n",
       "    </tr>\n",
       "  </thead>\n",
       "  <tbody>\n",
       "    <tr>\n",
       "      <th>0</th>\n",
       "      <td>5.1</td>\n",
       "      <td>3.5</td>\n",
       "      <td>1.4</td>\n",
       "      <td>0.2</td>\n",
       "      <td>0</td>\n",
       "    </tr>\n",
       "    <tr>\n",
       "      <th>1</th>\n",
       "      <td>4.9</td>\n",
       "      <td>3.0</td>\n",
       "      <td>1.4</td>\n",
       "      <td>0.2</td>\n",
       "      <td>0</td>\n",
       "    </tr>\n",
       "    <tr>\n",
       "      <th>2</th>\n",
       "      <td>4.7</td>\n",
       "      <td>3.2</td>\n",
       "      <td>1.3</td>\n",
       "      <td>0.2</td>\n",
       "      <td>0</td>\n",
       "    </tr>\n",
       "    <tr>\n",
       "      <th>3</th>\n",
       "      <td>4.6</td>\n",
       "      <td>3.1</td>\n",
       "      <td>1.5</td>\n",
       "      <td>0.2</td>\n",
       "      <td>0</td>\n",
       "    </tr>\n",
       "    <tr>\n",
       "      <th>4</th>\n",
       "      <td>5.0</td>\n",
       "      <td>3.6</td>\n",
       "      <td>1.4</td>\n",
       "      <td>0.2</td>\n",
       "      <td>0</td>\n",
       "    </tr>\n",
       "  </tbody>\n",
       "</table>\n",
       "</div>"
      ],
      "text/plain": [
       "   sepal length (cm)  sepal width (cm)  petal length (cm)  petal width (cm)  \\\n",
       "0                5.1               3.5                1.4               0.2   \n",
       "1                4.9               3.0                1.4               0.2   \n",
       "2                4.7               3.2                1.3               0.2   \n",
       "3                4.6               3.1                1.5               0.2   \n",
       "4                5.0               3.6                1.4               0.2   \n",
       "\n",
       "   target  \n",
       "0       0  \n",
       "1       0  \n",
       "2       0  \n",
       "3       0  \n",
       "4       0  "
      ]
     },
     "execution_count": 4,
     "metadata": {},
     "output_type": "execute_result"
    }
   ],
   "source": [
    "df.head()"
   ]
  },
  {
   "cell_type": "markdown",
   "id": "392dbf68",
   "metadata": {
    "papermill": {
     "duration": 0.002475,
     "end_time": "2025-04-25T17:47:13.298343",
     "exception": false,
     "start_time": "2025-04-25T17:47:13.295868",
     "status": "completed"
    },
    "tags": []
   },
   "source": [
    "Using only sepal length and width"
   ]
  },
  {
   "cell_type": "code",
   "execution_count": 5,
   "id": "15867e47",
   "metadata": {
    "execution": {
     "iopub.execute_input": "2025-04-25T17:47:13.304544Z",
     "iopub.status.busy": "2025-04-25T17:47:13.304046Z",
     "iopub.status.idle": "2025-04-25T17:47:13.312472Z",
     "shell.execute_reply": "2025-04-25T17:47:13.311381Z"
    },
    "papermill": {
     "duration": 0.013025,
     "end_time": "2025-04-25T17:47:13.313834",
     "exception": false,
     "start_time": "2025-04-25T17:47:13.300809",
     "status": "completed"
    },
    "tags": []
   },
   "outputs": [],
   "source": [
    "df2 = df.drop(columns=['petal length (cm)', 'petal width (cm)'])"
   ]
  },
  {
   "cell_type": "code",
   "execution_count": 6,
   "id": "ff4ee760",
   "metadata": {
    "execution": {
     "iopub.execute_input": "2025-04-25T17:47:13.319881Z",
     "iopub.status.busy": "2025-04-25T17:47:13.319413Z",
     "iopub.status.idle": "2025-04-25T17:47:13.324775Z",
     "shell.execute_reply": "2025-04-25T17:47:13.323883Z"
    },
    "papermill": {
     "duration": 0.009936,
     "end_time": "2025-04-25T17:47:13.326295",
     "exception": false,
     "start_time": "2025-04-25T17:47:13.316359",
     "status": "completed"
    },
    "tags": []
   },
   "outputs": [],
   "source": [
    "def split_and_scale(df):\n",
    "    X = df.drop(columns='target')\n",
    "    y = df['target']\n",
    "\n",
    "    X_train, X_test, y_train, y_test = train_test_split(X, y, test_size=0.2, stratify=y, random_state=42)\n",
    "    scaler = MinMaxScaler()\n",
    "    X_train = scaler.fit_transform(X_train)\n",
    "    X_test = scaler.transform(X_test)\n",
    "    return X_train, X_test, y_train, y_test"
   ]
  },
  {
   "cell_type": "code",
   "execution_count": 7,
   "id": "fd8dd0fd",
   "metadata": {
    "execution": {
     "iopub.execute_input": "2025-04-25T17:47:13.332919Z",
     "iopub.status.busy": "2025-04-25T17:47:13.332398Z",
     "iopub.status.idle": "2025-04-25T17:47:13.337725Z",
     "shell.execute_reply": "2025-04-25T17:47:13.336740Z"
    },
    "papermill": {
     "duration": 0.010059,
     "end_time": "2025-04-25T17:47:13.339077",
     "exception": false,
     "start_time": "2025-04-25T17:47:13.329018",
     "status": "completed"
    },
    "tags": []
   },
   "outputs": [],
   "source": [
    "def log_test_metrics(model, X_test, y_test):\n",
    "    predictions = model.predict(X_test)\n",
    "    precision = precision_score(y_test, predictions, average='micro')\n",
    "    f1 = f1_score(y_test, predictions, average='micro')\n",
    "    mlflow.log_metric('test_precision', precision)\n",
    "    mlflow.log_metric('test_f1', f1)"
   ]
  },
  {
   "cell_type": "code",
   "execution_count": 8,
   "id": "0736e997",
   "metadata": {
    "execution": {
     "iopub.execute_input": "2025-04-25T17:47:13.346327Z",
     "iopub.status.busy": "2025-04-25T17:47:13.345734Z",
     "iopub.status.idle": "2025-04-25T17:47:27.561540Z",
     "shell.execute_reply": "2025-04-25T17:47:27.560490Z"
    },
    "papermill": {
     "duration": 14.220783,
     "end_time": "2025-04-25T17:47:27.563071",
     "exception": false,
     "start_time": "2025-04-25T17:47:13.342288",
     "status": "completed"
    },
    "tags": []
   },
   "outputs": [
    {
     "name": "stderr",
     "output_type": "stream",
     "text": [
      "2025/04/25 17:47:13 WARNING mlflow.utils.autologging_utils: You are using an unsupported version of sklearn. If you encounter errors during autologging, try upgrading / downgrading sklearn to a supported version, or try upgrading MLflow.\n"
     ]
    },
    {
     "name": "stdout",
     "output_type": "stream",
     "text": [
      "Setting MLflow tracking URI to: http://mlflow:5000\n"
     ]
    },
    {
     "name": "stderr",
     "output_type": "stream",
     "text": [
      "2025/04/25 17:47:13 WARNING mlflow.utils.git_utils: Failed to import Git (the Git executable is probably not on your PATH), so Git SHA is not available. Error: Failed to initialize: Bad git executable.\n",
      "The git executable must be specified in one of the following ways:\n",
      "    - be included in your $PATH\n",
      "    - be set via $GIT_PYTHON_GIT_EXECUTABLE\n",
      "    - explicitly set via git.refresh(<full-path-to-git-executable>)\n",
      "\n",
      "All git commands will error until this is rectified.\n",
      "\n",
      "This initial message can be silenced or aggravated in the future by setting the\n",
      "$GIT_PYTHON_REFRESH environment variable. Use one of the following values:\n",
      "    - quiet|q|silence|s|silent|none|n|0: for no message or exception\n",
      "    - warn|w|warning|log|l|1: for a warning message (logging level CRITICAL, displayed by default)\n",
      "    - error|e|exception|raise|r|2: for a raised exception\n",
      "\n",
      "Example:\n",
      "    export GIT_PYTHON_REFRESH=quiet\n",
      "\n"
     ]
    },
    {
     "name": "stdout",
     "output_type": "stream",
     "text": [
      "              precision    recall  f1-score   support\n",
      "\n",
      "           0       0.91      1.00      0.95        10\n",
      "           1       0.67      0.40      0.50        10\n",
      "           2       0.62      0.80      0.70        10\n",
      "\n",
      "    accuracy                           0.73        30\n",
      "   macro avg       0.73      0.73      0.72        30\n",
      "weighted avg       0.73      0.73      0.72        30\n",
      "\n",
      "Fitting 5 folds for each of 6 candidates, totalling 30 fits\n"
     ]
    },
    {
     "name": "stderr",
     "output_type": "stream",
     "text": [
      "2025/04/25 17:47:27 INFO mlflow.sklearn.utils: Logging the 5 best runs, one run will be omitted.\n"
     ]
    },
    {
     "data": {
      "text/html": [
       "<style>#sk-container-id-3 {\n",
       "  /* Definition of color scheme common for light and dark mode */\n",
       "  --sklearn-color-text: #000;\n",
       "  --sklearn-color-text-muted: #666;\n",
       "  --sklearn-color-line: gray;\n",
       "  /* Definition of color scheme for unfitted estimators */\n",
       "  --sklearn-color-unfitted-level-0: #fff5e6;\n",
       "  --sklearn-color-unfitted-level-1: #f6e4d2;\n",
       "  --sklearn-color-unfitted-level-2: #ffe0b3;\n",
       "  --sklearn-color-unfitted-level-3: chocolate;\n",
       "  /* Definition of color scheme for fitted estimators */\n",
       "  --sklearn-color-fitted-level-0: #f0f8ff;\n",
       "  --sklearn-color-fitted-level-1: #d4ebff;\n",
       "  --sklearn-color-fitted-level-2: #b3dbfd;\n",
       "  --sklearn-color-fitted-level-3: cornflowerblue;\n",
       "\n",
       "  /* Specific color for light theme */\n",
       "  --sklearn-color-text-on-default-background: var(--sg-text-color, var(--theme-code-foreground, var(--jp-content-font-color1, black)));\n",
       "  --sklearn-color-background: var(--sg-background-color, var(--theme-background, var(--jp-layout-color0, white)));\n",
       "  --sklearn-color-border-box: var(--sg-text-color, var(--theme-code-foreground, var(--jp-content-font-color1, black)));\n",
       "  --sklearn-color-icon: #696969;\n",
       "\n",
       "  @media (prefers-color-scheme: dark) {\n",
       "    /* Redefinition of color scheme for dark theme */\n",
       "    --sklearn-color-text-on-default-background: var(--sg-text-color, var(--theme-code-foreground, var(--jp-content-font-color1, white)));\n",
       "    --sklearn-color-background: var(--sg-background-color, var(--theme-background, var(--jp-layout-color0, #111)));\n",
       "    --sklearn-color-border-box: var(--sg-text-color, var(--theme-code-foreground, var(--jp-content-font-color1, white)));\n",
       "    --sklearn-color-icon: #878787;\n",
       "  }\n",
       "}\n",
       "\n",
       "#sk-container-id-3 {\n",
       "  color: var(--sklearn-color-text);\n",
       "}\n",
       "\n",
       "#sk-container-id-3 pre {\n",
       "  padding: 0;\n",
       "}\n",
       "\n",
       "#sk-container-id-3 input.sk-hidden--visually {\n",
       "  border: 0;\n",
       "  clip: rect(1px 1px 1px 1px);\n",
       "  clip: rect(1px, 1px, 1px, 1px);\n",
       "  height: 1px;\n",
       "  margin: -1px;\n",
       "  overflow: hidden;\n",
       "  padding: 0;\n",
       "  position: absolute;\n",
       "  width: 1px;\n",
       "}\n",
       "\n",
       "#sk-container-id-3 div.sk-dashed-wrapped {\n",
       "  border: 1px dashed var(--sklearn-color-line);\n",
       "  margin: 0 0.4em 0.5em 0.4em;\n",
       "  box-sizing: border-box;\n",
       "  padding-bottom: 0.4em;\n",
       "  background-color: var(--sklearn-color-background);\n",
       "}\n",
       "\n",
       "#sk-container-id-3 div.sk-container {\n",
       "  /* jupyter's `normalize.less` sets `[hidden] { display: none; }`\n",
       "     but bootstrap.min.css set `[hidden] { display: none !important; }`\n",
       "     so we also need the `!important` here to be able to override the\n",
       "     default hidden behavior on the sphinx rendered scikit-learn.org.\n",
       "     See: https://github.com/scikit-learn/scikit-learn/issues/21755 */\n",
       "  display: inline-block !important;\n",
       "  position: relative;\n",
       "}\n",
       "\n",
       "#sk-container-id-3 div.sk-text-repr-fallback {\n",
       "  display: none;\n",
       "}\n",
       "\n",
       "div.sk-parallel-item,\n",
       "div.sk-serial,\n",
       "div.sk-item {\n",
       "  /* draw centered vertical line to link estimators */\n",
       "  background-image: linear-gradient(var(--sklearn-color-text-on-default-background), var(--sklearn-color-text-on-default-background));\n",
       "  background-size: 2px 100%;\n",
       "  background-repeat: no-repeat;\n",
       "  background-position: center center;\n",
       "}\n",
       "\n",
       "/* Parallel-specific style estimator block */\n",
       "\n",
       "#sk-container-id-3 div.sk-parallel-item::after {\n",
       "  content: \"\";\n",
       "  width: 100%;\n",
       "  border-bottom: 2px solid var(--sklearn-color-text-on-default-background);\n",
       "  flex-grow: 1;\n",
       "}\n",
       "\n",
       "#sk-container-id-3 div.sk-parallel {\n",
       "  display: flex;\n",
       "  align-items: stretch;\n",
       "  justify-content: center;\n",
       "  background-color: var(--sklearn-color-background);\n",
       "  position: relative;\n",
       "}\n",
       "\n",
       "#sk-container-id-3 div.sk-parallel-item {\n",
       "  display: flex;\n",
       "  flex-direction: column;\n",
       "}\n",
       "\n",
       "#sk-container-id-3 div.sk-parallel-item:first-child::after {\n",
       "  align-self: flex-end;\n",
       "  width: 50%;\n",
       "}\n",
       "\n",
       "#sk-container-id-3 div.sk-parallel-item:last-child::after {\n",
       "  align-self: flex-start;\n",
       "  width: 50%;\n",
       "}\n",
       "\n",
       "#sk-container-id-3 div.sk-parallel-item:only-child::after {\n",
       "  width: 0;\n",
       "}\n",
       "\n",
       "/* Serial-specific style estimator block */\n",
       "\n",
       "#sk-container-id-3 div.sk-serial {\n",
       "  display: flex;\n",
       "  flex-direction: column;\n",
       "  align-items: center;\n",
       "  background-color: var(--sklearn-color-background);\n",
       "  padding-right: 1em;\n",
       "  padding-left: 1em;\n",
       "}\n",
       "\n",
       "\n",
       "/* Toggleable style: style used for estimator/Pipeline/ColumnTransformer box that is\n",
       "clickable and can be expanded/collapsed.\n",
       "- Pipeline and ColumnTransformer use this feature and define the default style\n",
       "- Estimators will overwrite some part of the style using the `sk-estimator` class\n",
       "*/\n",
       "\n",
       "/* Pipeline and ColumnTransformer style (default) */\n",
       "\n",
       "#sk-container-id-3 div.sk-toggleable {\n",
       "  /* Default theme specific background. It is overwritten whether we have a\n",
       "  specific estimator or a Pipeline/ColumnTransformer */\n",
       "  background-color: var(--sklearn-color-background);\n",
       "}\n",
       "\n",
       "/* Toggleable label */\n",
       "#sk-container-id-3 label.sk-toggleable__label {\n",
       "  cursor: pointer;\n",
       "  display: flex;\n",
       "  width: 100%;\n",
       "  margin-bottom: 0;\n",
       "  padding: 0.5em;\n",
       "  box-sizing: border-box;\n",
       "  text-align: center;\n",
       "  align-items: start;\n",
       "  justify-content: space-between;\n",
       "  gap: 0.5em;\n",
       "}\n",
       "\n",
       "#sk-container-id-3 label.sk-toggleable__label .caption {\n",
       "  font-size: 0.6rem;\n",
       "  font-weight: lighter;\n",
       "  color: var(--sklearn-color-text-muted);\n",
       "}\n",
       "\n",
       "#sk-container-id-3 label.sk-toggleable__label-arrow:before {\n",
       "  /* Arrow on the left of the label */\n",
       "  content: \"▸\";\n",
       "  float: left;\n",
       "  margin-right: 0.25em;\n",
       "  color: var(--sklearn-color-icon);\n",
       "}\n",
       "\n",
       "#sk-container-id-3 label.sk-toggleable__label-arrow:hover:before {\n",
       "  color: var(--sklearn-color-text);\n",
       "}\n",
       "\n",
       "/* Toggleable content - dropdown */\n",
       "\n",
       "#sk-container-id-3 div.sk-toggleable__content {\n",
       "  max-height: 0;\n",
       "  max-width: 0;\n",
       "  overflow: hidden;\n",
       "  text-align: left;\n",
       "  /* unfitted */\n",
       "  background-color: var(--sklearn-color-unfitted-level-0);\n",
       "}\n",
       "\n",
       "#sk-container-id-3 div.sk-toggleable__content.fitted {\n",
       "  /* fitted */\n",
       "  background-color: var(--sklearn-color-fitted-level-0);\n",
       "}\n",
       "\n",
       "#sk-container-id-3 div.sk-toggleable__content pre {\n",
       "  margin: 0.2em;\n",
       "  border-radius: 0.25em;\n",
       "  color: var(--sklearn-color-text);\n",
       "  /* unfitted */\n",
       "  background-color: var(--sklearn-color-unfitted-level-0);\n",
       "}\n",
       "\n",
       "#sk-container-id-3 div.sk-toggleable__content.fitted pre {\n",
       "  /* unfitted */\n",
       "  background-color: var(--sklearn-color-fitted-level-0);\n",
       "}\n",
       "\n",
       "#sk-container-id-3 input.sk-toggleable__control:checked~div.sk-toggleable__content {\n",
       "  /* Expand drop-down */\n",
       "  max-height: 200px;\n",
       "  max-width: 100%;\n",
       "  overflow: auto;\n",
       "}\n",
       "\n",
       "#sk-container-id-3 input.sk-toggleable__control:checked~label.sk-toggleable__label-arrow:before {\n",
       "  content: \"▾\";\n",
       "}\n",
       "\n",
       "/* Pipeline/ColumnTransformer-specific style */\n",
       "\n",
       "#sk-container-id-3 div.sk-label input.sk-toggleable__control:checked~label.sk-toggleable__label {\n",
       "  color: var(--sklearn-color-text);\n",
       "  background-color: var(--sklearn-color-unfitted-level-2);\n",
       "}\n",
       "\n",
       "#sk-container-id-3 div.sk-label.fitted input.sk-toggleable__control:checked~label.sk-toggleable__label {\n",
       "  background-color: var(--sklearn-color-fitted-level-2);\n",
       "}\n",
       "\n",
       "/* Estimator-specific style */\n",
       "\n",
       "/* Colorize estimator box */\n",
       "#sk-container-id-3 div.sk-estimator input.sk-toggleable__control:checked~label.sk-toggleable__label {\n",
       "  /* unfitted */\n",
       "  background-color: var(--sklearn-color-unfitted-level-2);\n",
       "}\n",
       "\n",
       "#sk-container-id-3 div.sk-estimator.fitted input.sk-toggleable__control:checked~label.sk-toggleable__label {\n",
       "  /* fitted */\n",
       "  background-color: var(--sklearn-color-fitted-level-2);\n",
       "}\n",
       "\n",
       "#sk-container-id-3 div.sk-label label.sk-toggleable__label,\n",
       "#sk-container-id-3 div.sk-label label {\n",
       "  /* The background is the default theme color */\n",
       "  color: var(--sklearn-color-text-on-default-background);\n",
       "}\n",
       "\n",
       "/* On hover, darken the color of the background */\n",
       "#sk-container-id-3 div.sk-label:hover label.sk-toggleable__label {\n",
       "  color: var(--sklearn-color-text);\n",
       "  background-color: var(--sklearn-color-unfitted-level-2);\n",
       "}\n",
       "\n",
       "/* Label box, darken color on hover, fitted */\n",
       "#sk-container-id-3 div.sk-label.fitted:hover label.sk-toggleable__label.fitted {\n",
       "  color: var(--sklearn-color-text);\n",
       "  background-color: var(--sklearn-color-fitted-level-2);\n",
       "}\n",
       "\n",
       "/* Estimator label */\n",
       "\n",
       "#sk-container-id-3 div.sk-label label {\n",
       "  font-family: monospace;\n",
       "  font-weight: bold;\n",
       "  display: inline-block;\n",
       "  line-height: 1.2em;\n",
       "}\n",
       "\n",
       "#sk-container-id-3 div.sk-label-container {\n",
       "  text-align: center;\n",
       "}\n",
       "\n",
       "/* Estimator-specific */\n",
       "#sk-container-id-3 div.sk-estimator {\n",
       "  font-family: monospace;\n",
       "  border: 1px dotted var(--sklearn-color-border-box);\n",
       "  border-radius: 0.25em;\n",
       "  box-sizing: border-box;\n",
       "  margin-bottom: 0.5em;\n",
       "  /* unfitted */\n",
       "  background-color: var(--sklearn-color-unfitted-level-0);\n",
       "}\n",
       "\n",
       "#sk-container-id-3 div.sk-estimator.fitted {\n",
       "  /* fitted */\n",
       "  background-color: var(--sklearn-color-fitted-level-0);\n",
       "}\n",
       "\n",
       "/* on hover */\n",
       "#sk-container-id-3 div.sk-estimator:hover {\n",
       "  /* unfitted */\n",
       "  background-color: var(--sklearn-color-unfitted-level-2);\n",
       "}\n",
       "\n",
       "#sk-container-id-3 div.sk-estimator.fitted:hover {\n",
       "  /* fitted */\n",
       "  background-color: var(--sklearn-color-fitted-level-2);\n",
       "}\n",
       "\n",
       "/* Specification for estimator info (e.g. \"i\" and \"?\") */\n",
       "\n",
       "/* Common style for \"i\" and \"?\" */\n",
       "\n",
       ".sk-estimator-doc-link,\n",
       "a:link.sk-estimator-doc-link,\n",
       "a:visited.sk-estimator-doc-link {\n",
       "  float: right;\n",
       "  font-size: smaller;\n",
       "  line-height: 1em;\n",
       "  font-family: monospace;\n",
       "  background-color: var(--sklearn-color-background);\n",
       "  border-radius: 1em;\n",
       "  height: 1em;\n",
       "  width: 1em;\n",
       "  text-decoration: none !important;\n",
       "  margin-left: 0.5em;\n",
       "  text-align: center;\n",
       "  /* unfitted */\n",
       "  border: var(--sklearn-color-unfitted-level-1) 1pt solid;\n",
       "  color: var(--sklearn-color-unfitted-level-1);\n",
       "}\n",
       "\n",
       ".sk-estimator-doc-link.fitted,\n",
       "a:link.sk-estimator-doc-link.fitted,\n",
       "a:visited.sk-estimator-doc-link.fitted {\n",
       "  /* fitted */\n",
       "  border: var(--sklearn-color-fitted-level-1) 1pt solid;\n",
       "  color: var(--sklearn-color-fitted-level-1);\n",
       "}\n",
       "\n",
       "/* On hover */\n",
       "div.sk-estimator:hover .sk-estimator-doc-link:hover,\n",
       ".sk-estimator-doc-link:hover,\n",
       "div.sk-label-container:hover .sk-estimator-doc-link:hover,\n",
       ".sk-estimator-doc-link:hover {\n",
       "  /* unfitted */\n",
       "  background-color: var(--sklearn-color-unfitted-level-3);\n",
       "  color: var(--sklearn-color-background);\n",
       "  text-decoration: none;\n",
       "}\n",
       "\n",
       "div.sk-estimator.fitted:hover .sk-estimator-doc-link.fitted:hover,\n",
       ".sk-estimator-doc-link.fitted:hover,\n",
       "div.sk-label-container:hover .sk-estimator-doc-link.fitted:hover,\n",
       ".sk-estimator-doc-link.fitted:hover {\n",
       "  /* fitted */\n",
       "  background-color: var(--sklearn-color-fitted-level-3);\n",
       "  color: var(--sklearn-color-background);\n",
       "  text-decoration: none;\n",
       "}\n",
       "\n",
       "/* Span, style for the box shown on hovering the info icon */\n",
       ".sk-estimator-doc-link span {\n",
       "  display: none;\n",
       "  z-index: 9999;\n",
       "  position: relative;\n",
       "  font-weight: normal;\n",
       "  right: .2ex;\n",
       "  padding: .5ex;\n",
       "  margin: .5ex;\n",
       "  width: min-content;\n",
       "  min-width: 20ex;\n",
       "  max-width: 50ex;\n",
       "  color: var(--sklearn-color-text);\n",
       "  box-shadow: 2pt 2pt 4pt #999;\n",
       "  /* unfitted */\n",
       "  background: var(--sklearn-color-unfitted-level-0);\n",
       "  border: .5pt solid var(--sklearn-color-unfitted-level-3);\n",
       "}\n",
       "\n",
       ".sk-estimator-doc-link.fitted span {\n",
       "  /* fitted */\n",
       "  background: var(--sklearn-color-fitted-level-0);\n",
       "  border: var(--sklearn-color-fitted-level-3);\n",
       "}\n",
       "\n",
       ".sk-estimator-doc-link:hover span {\n",
       "  display: block;\n",
       "}\n",
       "\n",
       "/* \"?\"-specific style due to the `<a>` HTML tag */\n",
       "\n",
       "#sk-container-id-3 a.estimator_doc_link {\n",
       "  float: right;\n",
       "  font-size: 1rem;\n",
       "  line-height: 1em;\n",
       "  font-family: monospace;\n",
       "  background-color: var(--sklearn-color-background);\n",
       "  border-radius: 1rem;\n",
       "  height: 1rem;\n",
       "  width: 1rem;\n",
       "  text-decoration: none;\n",
       "  /* unfitted */\n",
       "  color: var(--sklearn-color-unfitted-level-1);\n",
       "  border: var(--sklearn-color-unfitted-level-1) 1pt solid;\n",
       "}\n",
       "\n",
       "#sk-container-id-3 a.estimator_doc_link.fitted {\n",
       "  /* fitted */\n",
       "  border: var(--sklearn-color-fitted-level-1) 1pt solid;\n",
       "  color: var(--sklearn-color-fitted-level-1);\n",
       "}\n",
       "\n",
       "/* On hover */\n",
       "#sk-container-id-3 a.estimator_doc_link:hover {\n",
       "  /* unfitted */\n",
       "  background-color: var(--sklearn-color-unfitted-level-3);\n",
       "  color: var(--sklearn-color-background);\n",
       "  text-decoration: none;\n",
       "}\n",
       "\n",
       "#sk-container-id-3 a.estimator_doc_link.fitted:hover {\n",
       "  /* fitted */\n",
       "  background-color: var(--sklearn-color-fitted-level-3);\n",
       "}\n",
       "</style><div id=\"sk-container-id-3\" class=\"sk-top-container\"><div class=\"sk-text-repr-fallback\"><pre>LogisticRegression(C=10, n_jobs=-1, random_state=42)</pre><b>In a Jupyter environment, please rerun this cell to show the HTML representation or trust the notebook. <br />On GitHub, the HTML representation is unable to render, please try loading this page with nbviewer.org.</b></div><div class=\"sk-container\" hidden><div class=\"sk-item\"><div class=\"sk-estimator fitted sk-toggleable\"><input class=\"sk-toggleable__control sk-hidden--visually\" id=\"sk-estimator-id-5\" type=\"checkbox\" checked><label for=\"sk-estimator-id-5\" class=\"sk-toggleable__label fitted sk-toggleable__label-arrow\"><div><div>LogisticRegression</div></div><div><a class=\"sk-estimator-doc-link fitted\" rel=\"noreferrer\" target=\"_blank\" href=\"https://scikit-learn.org/1.6/modules/generated/sklearn.linear_model.LogisticRegression.html\">?<span>Documentation for LogisticRegression</span></a><span class=\"sk-estimator-doc-link fitted\">i<span>Fitted</span></span></div></label><div class=\"sk-toggleable__content fitted\"><pre>LogisticRegression(C=10, n_jobs=-1, random_state=42)</pre></div> </div></div></div></div>"
      ],
      "text/plain": [
       "LogisticRegression(C=10, n_jobs=-1, random_state=42)"
      ]
     },
     "metadata": {},
     "output_type": "display_data"
    },
    {
     "data": {
      "text/plain": [
       "{'C': 10, 'solver': 'lbfgs'}"
      ]
     },
     "metadata": {},
     "output_type": "display_data"
    },
    {
     "name": "stdout",
     "output_type": "stream",
     "text": [
      "              precision    recall  f1-score   support\n",
      "\n",
      "           0       1.00      1.00      1.00        10\n",
      "           1       0.90      0.90      0.90        10\n",
      "           2       0.90      0.90      0.90        10\n",
      "\n",
      "    accuracy                           0.93        30\n",
      "   macro avg       0.93      0.93      0.93        30\n",
      "weighted avg       0.93      0.93      0.93        30\n",
      "\n"
     ]
    }
   ],
   "source": [
    "mlflow_tracking_uri = os.getenv('MLFLOW_TRACKING_URI', 'http://127.0.0.1:5000')\n",
    "print(f\"Setting MLflow tracking URI to: {mlflow_tracking_uri}\")\n",
    "mlflow.set_tracking_uri(mlflow_tracking_uri)\n",
    "mlflow.set_experiment('Using different features 2')\n",
    "mlflow.sklearn.autolog(\n",
    "    log_models = False,\n",
    "    log_datasets = False,\n",
    "    log_input_examples = False\n",
    "    )\n",
    "\n",
    "# simple logistic regression\n",
    "with mlflow.start_run(run_name=\"basic_logistic_regression_with_2_features\"):\n",
    "    X_train, X_test, y_train, y_test = split_and_scale(df2)\n",
    "    lr = LogisticRegression(random_state=42, n_jobs=-1)\n",
    "    lr.fit(X_train, y_train)\n",
    "    y_pred = lr.predict(X_test)\n",
    "    print(classification_report(y_test, y_pred))\n",
    "    log_test_metrics(lr, X_test, y_test)\n",
    "\n",
    "with mlflow.start_run(run_name=\"grid_search_logistic_regression_with_all_features\"):\n",
    "    X_train, X_test, y_train, y_test = split_and_scale(df)\n",
    "    # also logistic regression but with tuning\n",
    "    lr = LogisticRegression(random_state=42, n_jobs=-1)\n",
    "    params = {\n",
    "        'C': [0.1, 1, 10],\n",
    "        'solver': ['liblinear', 'lbfgs'],\n",
    "        }\n",
    "\n",
    "    clf = GridSearchCV(\n",
    "        cv=5,\n",
    "        param_grid=params,\n",
    "        estimator=lr,\n",
    "        return_train_score=True,\n",
    "        verbose=1,\n",
    "        refit=True\n",
    "        )\n",
    "    \n",
    "    clf.fit(X_train, y_train)\n",
    "    display(clf.best_estimator_, clf.best_params_)\n",
    "    y_pred = clf.predict(X_test)\n",
    "    print(classification_report(y_test, y_pred))\n",
    "    log_test_metrics(clf, X_test, y_test)"
   ]
  },
  {
   "cell_type": "markdown",
   "id": "d0412738",
   "metadata": {
    "papermill": {
     "duration": 0.003391,
     "end_time": "2025-04-25T17:47:27.569916",
     "exception": false,
     "start_time": "2025-04-25T17:47:27.566525",
     "status": "completed"
    },
    "tags": []
   },
   "source": [
    "decent performance with only 2 features.\n",
    "\n",
    "But with all features performance is much much better."
   ]
  },
  {
   "cell_type": "code",
   "execution_count": 9,
   "id": "192beedc",
   "metadata": {
    "execution": {
     "iopub.execute_input": "2025-04-25T17:47:27.577837Z",
     "iopub.status.busy": "2025-04-25T17:47:27.577358Z",
     "iopub.status.idle": "2025-04-25T17:47:28.210109Z",
     "shell.execute_reply": "2025-04-25T17:47:28.209052Z"
    },
    "papermill": {
     "duration": 0.638129,
     "end_time": "2025-04-25T17:47:28.211246",
     "exception": false,
     "start_time": "2025-04-25T17:47:27.573117",
     "status": "completed"
    },
    "tags": []
   },
   "outputs": [
    {
     "name": "stdout",
     "output_type": "stream",
     "text": [
      "Fitting 5 folds for each of 9 candidates, totalling 45 fits\n"
     ]
    },
    {
     "name": "stderr",
     "output_type": "stream",
     "text": [
      "2025/04/25 17:47:27 INFO mlflow.sklearn.utils: Logging the 5 best runs, 4 runs will be omitted.\n"
     ]
    },
    {
     "name": "stdout",
     "output_type": "stream",
     "text": [
      "              precision    recall  f1-score   support\n",
      "\n",
      "           0       1.00      1.00      1.00        10\n",
      "           1       1.00      0.90      0.95        10\n",
      "           2       0.91      1.00      0.95        10\n",
      "\n",
      "    accuracy                           0.97        30\n",
      "   macro avg       0.97      0.97      0.97        30\n",
      "weighted avg       0.97      0.97      0.97        30\n",
      "\n"
     ]
    }
   ],
   "source": [
    "mlflow.set_experiment('Using different algorithms')\n",
    "\n",
    "with mlflow.start_run(run_name=\"random_forests\"):\n",
    "    # mlflow.sklearn.autolog(\n",
    "    #     log_models = True,\n",
    "    #     log_datasets = True,\n",
    "    #     log_input_examples = True\n",
    "    #     )\n",
    "    \n",
    "    rf = RandomForestClassifier(random_state=42, n_jobs=-1)\n",
    "    rf_params = {\n",
    "        'max_depth': [2, 3, 4],\n",
    "        'min_samples_leaf': [3, 4, 5]\n",
    "        }\n",
    "\n",
    "    rf_clf = GridSearchCV(\n",
    "        estimator=rf,\n",
    "        param_grid=rf_params,\n",
    "        n_jobs=-1,\n",
    "        cv=5,\n",
    "        refit=True,\n",
    "        verbose=True\n",
    "        )\n",
    "\n",
    "    rf_clf.fit(X_train, y_train)\n",
    "    y_pred_rf = rf_clf.predict(X_test)\n",
    "    print(classification_report(y_test, y_pred_rf))\n",
    "    log_test_metrics(rf_clf, X_test, y_test)"
   ]
  },
  {
   "cell_type": "markdown",
   "id": "61e1f569",
   "metadata": {
    "papermill": {
     "duration": 0.003578,
     "end_time": "2025-04-25T17:47:28.218626",
     "exception": false,
     "start_time": "2025-04-25T17:47:28.215048",
     "status": "completed"
    },
    "tags": []
   },
   "source": [
    "almost perfect performance"
   ]
  },
  {
   "cell_type": "code",
   "execution_count": 10,
   "id": "13b0bfab",
   "metadata": {
    "execution": {
     "iopub.execute_input": "2025-04-25T17:47:28.227129Z",
     "iopub.status.busy": "2025-04-25T17:47:28.226623Z",
     "iopub.status.idle": "2025-04-25T17:47:29.074379Z",
     "shell.execute_reply": "2025-04-25T17:47:29.073367Z"
    },
    "papermill": {
     "duration": 0.853526,
     "end_time": "2025-04-25T17:47:29.075591",
     "exception": false,
     "start_time": "2025-04-25T17:47:28.222065",
     "status": "completed"
    },
    "tags": []
   },
   "outputs": [
    {
     "name": "stderr",
     "output_type": "stream",
     "text": [
      "2025/04/25 17:47:28 WARNING mlflow.utils.autologging_utils: You are using an unsupported version of xgboost. If you encounter errors during autologging, try upgrading / downgrading xgboost to a supported version, or try upgrading MLflow.\n"
     ]
    },
    {
     "name": "stderr",
     "output_type": "stream",
     "text": [
      "2025/04/25 17:47:28 INFO mlflow.tracking.fluent: Autologging successfully enabled for xgboost.\n"
     ]
    },
    {
     "name": "stdout",
     "output_type": "stream",
     "text": [
      "Fitting 5 folds for each of 27 candidates, totalling 135 fits\n"
     ]
    },
    {
     "name": "stderr",
     "output_type": "stream",
     "text": [
      "2025/04/25 17:47:28 INFO mlflow.sklearn.utils: Logging the 5 best runs, 22 runs will be omitted.\n"
     ]
    },
    {
     "name": "stdout",
     "output_type": "stream",
     "text": [
      "              precision    recall  f1-score   support\n",
      "\n",
      "           0       1.00      1.00      1.00        10\n",
      "           1       1.00      0.90      0.95        10\n",
      "           2       0.91      1.00      0.95        10\n",
      "\n",
      "    accuracy                           0.97        30\n",
      "   macro avg       0.97      0.97      0.97        30\n",
      "weighted avg       0.97      0.97      0.97        30\n",
      "\n"
     ]
    }
   ],
   "source": [
    "xgb = XGBClassifier(random_state=42, verbosity=1, objective='multi:logistic', n_jobs=-1)\n",
    "\n",
    "mlflow.autolog(\n",
    "    log_models = False,\n",
    "    log_datasets = False,\n",
    "    log_input_examples = False\n",
    "    )\n",
    "\n",
    "with mlflow.start_run(run_name=\"xgbclassifier\"):\n",
    "    params = {\n",
    "        'n_estimators': [10, 25, 50],\n",
    "        'learning_rate': [0.001, 0.01, 0.1],\n",
    "        'booster': ['gbtree', 'gblinear', 'dart'],\n",
    "        }\n",
    "    xgb_clf = GridSearchCV(\n",
    "        estimator=xgb,\n",
    "        param_grid=params,\n",
    "        n_jobs=-1,\n",
    "        cv=5,\n",
    "        refit=True,\n",
    "        verbose=True\n",
    "        )\n",
    "\n",
    "    xgb_clf.fit(\n",
    "        X_train,\n",
    "        y_train,\n",
    "        eval_set=[(X_test, y_test)],\n",
    "        verbose=False\n",
    "        )\n",
    "    \n",
    "    y_pred_xgb = xgb_clf.predict(X_test)\n",
    "    print(classification_report(y_test, y_pred_xgb))\n",
    "    log_test_metrics(xgb_clf, X_test, y_test)"
   ]
  },
  {
   "cell_type": "markdown",
   "id": "ac03f447",
   "metadata": {
    "papermill": {
     "duration": 0.003875,
     "end_time": "2025-04-25T17:47:29.083777",
     "exception": false,
     "start_time": "2025-04-25T17:47:29.079902",
     "status": "completed"
    },
    "tags": []
   },
   "source": [
    "Random forests outperformed xgboost. That means we have the winner. I'll use random forests for deploying."
   ]
  }
 ],
 "metadata": {
  "kernelspec": {
   "display_name": "2_mle_Containerization",
   "language": "python",
   "name": "python3"
  },
  "language_info": {
   "codemirror_mode": {
    "name": "ipython",
    "version": 3
   },
   "file_extension": ".py",
   "mimetype": "text/x-python",
   "name": "python",
   "nbconvert_exporter": "python",
   "pygments_lexer": "ipython3",
   "version": "3.11.12"
  },
  "papermill": {
   "default_parameters": {},
   "duration": 22.062449,
   "end_time": "2025-04-25T17:47:31.711443",
   "environment_variables": {},
   "exception": null,
   "input_path": "nb.ipynb",
   "output_path": "nb_output.ipynb",
   "parameters": {},
   "start_time": "2025-04-25T17:47:09.648994",
   "version": "2.6.0"
  }
 },
 "nbformat": 4,
 "nbformat_minor": 5
}